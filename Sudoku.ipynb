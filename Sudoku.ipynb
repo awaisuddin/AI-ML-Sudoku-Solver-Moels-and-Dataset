{
  "nbformat": 4,
  "nbformat_minor": 0,
  "metadata": {
    "colab": {
      "name": "Sudoku.ipynb",
      "provenance": [],
      "collapsed_sections": []
    },
    "kernelspec": {
      "name": "python3",
      "display_name": "Python 3"
    }
  },
  "cells": [
    {
      "cell_type": "markdown",
      "metadata": {
        "id": "nIV6O6qq5zZZ",
        "colab_type": "text"
      },
      "source": [
        "## downloading sudoku.csv from kaggle (skip this , because, you may already have sudoku.csv file with you)"
      ]
    },
    {
      "cell_type": "code",
      "metadata": {
        "id": "YWK9rdBF5myt",
        "colab_type": "code",
        "colab": {
          "base_uri": "https://localhost:8080/",
          "height": 547
        },
        "outputId": "9c828fb5-b7e1-420e-e5f8-c72ef552a6cb"
      },
      "source": [
        "from google.colab import files\n",
        "!mkdir ../root/.kaggle/\n",
        "!cp ../content/kaggle.json ../root/.kaggle/\n",
        "!pip uninstall -y kaggle\n",
        "!pip install --upgrade pip\n",
        "!pip install kaggle==1.5.6\n",
        "# This permissions change avoids a warning on Kaggle tool startup.\n",
        "!chmod 600 /root/.kaggle/kaggle.json"
      ],
      "execution_count": 1,
      "outputs": [
        {
          "output_type": "stream",
          "text": [
            "Uninstalling kaggle-1.5.6:\n",
            "  Successfully uninstalled kaggle-1.5.6\n",
            "Collecting pip\n",
            "\u001b[?25l  Downloading https://files.pythonhosted.org/packages/5a/4a/39400ff9b36e719bdf8f31c99fe1fa7842a42fa77432e584f707a5080063/pip-20.2.2-py2.py3-none-any.whl (1.5MB)\n",
            "\u001b[K     |████████████████████████████████| 1.5MB 2.7MB/s \n",
            "\u001b[?25hInstalling collected packages: pip\n",
            "  Found existing installation: pip 19.3.1\n",
            "    Uninstalling pip-19.3.1:\n",
            "      Successfully uninstalled pip-19.3.1\n",
            "Successfully installed pip-20.2.2\n",
            "Collecting kaggle==1.5.6\n",
            "  Downloading kaggle-1.5.6.tar.gz (58 kB)\n",
            "\u001b[K     |████████████████████████████████| 58 kB 1.6 MB/s \n",
            "\u001b[?25hRequirement already satisfied: urllib3<1.25,>=1.21.1 in /usr/local/lib/python3.6/dist-packages (from kaggle==1.5.6) (1.24.3)\n",
            "Requirement already satisfied: six>=1.10 in /usr/local/lib/python3.6/dist-packages (from kaggle==1.5.6) (1.15.0)\n",
            "Requirement already satisfied: certifi in /usr/local/lib/python3.6/dist-packages (from kaggle==1.5.6) (2020.6.20)\n",
            "Requirement already satisfied: python-dateutil in /usr/local/lib/python3.6/dist-packages (from kaggle==1.5.6) (2.8.1)\n",
            "Requirement already satisfied: requests in /usr/local/lib/python3.6/dist-packages (from kaggle==1.5.6) (2.23.0)\n",
            "Requirement already satisfied: tqdm in /usr/local/lib/python3.6/dist-packages (from kaggle==1.5.6) (4.41.1)\n",
            "Requirement already satisfied: python-slugify in /usr/local/lib/python3.6/dist-packages (from kaggle==1.5.6) (4.0.1)\n",
            "Requirement already satisfied: idna<3,>=2.5 in /usr/local/lib/python3.6/dist-packages (from requests->kaggle==1.5.6) (2.10)\n",
            "Requirement already satisfied: chardet<4,>=3.0.2 in /usr/local/lib/python3.6/dist-packages (from requests->kaggle==1.5.6) (3.0.4)\n",
            "Requirement already satisfied: text-unidecode>=1.3 in /usr/local/lib/python3.6/dist-packages (from python-slugify->kaggle==1.5.6) (1.3)\n",
            "Building wheels for collected packages: kaggle\n",
            "  Building wheel for kaggle (setup.py) ... \u001b[?25l\u001b[?25hdone\n",
            "  Created wheel for kaggle: filename=kaggle-1.5.6-py3-none-any.whl size=72859 sha256=145abd3f211dddcc1afcc566c52677e523c4d80f565d28ac446402718e31a015\n",
            "  Stored in directory: /root/.cache/pip/wheels/01/3e/ff/77407ebac3ef71a79b9166a8382aecf88415a0bcbe3c095a01\n",
            "Successfully built kaggle\n",
            "Installing collected packages: kaggle\n",
            "Successfully installed kaggle-1.5.6\n"
          ],
          "name": "stdout"
        }
      ]
    },
    {
      "cell_type": "code",
      "metadata": {
        "id": "mbs8YzUZ4-LH",
        "colab_type": "code",
        "colab": {
          "base_uri": "https://localhost:8080/",
          "height": 68
        },
        "outputId": "5eb9b78c-a4b7-4aec-e88b-603f3c0dedc2"
      },
      "source": [
        "!kaggle datasets download -d bryanpark/sudoku"
      ],
      "execution_count": 2,
      "outputs": [
        {
          "output_type": "stream",
          "text": [
            "Downloading sudoku.zip to /content\n",
            " 95% 65.0M/68.1M [00:01<00:00, 32.7MB/s]\n",
            "100% 68.1M/68.1M [00:01<00:00, 38.3MB/s]\n"
          ],
          "name": "stdout"
        }
      ]
    },
    {
      "cell_type": "code",
      "metadata": {
        "id": "0eeP7eN75wwu",
        "colab_type": "code",
        "colab": {
          "base_uri": "https://localhost:8080/",
          "height": 51
        },
        "outputId": "ffd54c98-6b51-45c0-d606-dd24dc702cc4"
      },
      "source": [
        "!unzip /content/sudoku.zip"
      ],
      "execution_count": 3,
      "outputs": [
        {
          "output_type": "stream",
          "text": [
            "Archive:  /content/sudoku.zip\n",
            "  inflating: sudoku.csv              \n"
          ],
          "name": "stdout"
        }
      ]
    },
    {
      "cell_type": "markdown",
      "metadata": {
        "id": "9Zdcsbyl6ATO",
        "colab_type": "text"
      },
      "source": [
        "## preprocessing data"
      ]
    },
    {
      "cell_type": "code",
      "metadata": {
        "id": "8I3W3Lb858OU",
        "colab_type": "code",
        "colab": {
          "base_uri": "https://localhost:8080/",
          "height": 71
        },
        "outputId": "3f361299-184f-4987-89dc-2b25cac37e24"
      },
      "source": [
        "!python '/content/preprocessing.py'\n",
        "#skip this , beacause , in model.py , its already run again "
      ],
      "execution_count": 6,
      "outputs": [
        {
          "output_type": "stream",
          "text": [
            "2020-08-19 08:52:19.702075: I tensorflow/stream_executor/platform/default/dso_loader.cc:48] Successfully opened dynamic library libcudart.so.10.1\n",
            "Now , you have Xtrain , Xtest , ytrain , ytest ready to use\n"
          ],
          "name": "stdout"
        }
      ]
    },
    {
      "cell_type": "markdown",
      "metadata": {
        "id": "HTU5Jr4F63b1",
        "colab_type": "text"
      },
      "source": [
        "## Running model (training)"
      ]
    },
    {
      "cell_type": "code",
      "metadata": {
        "id": "5ZmRgL3d6TlF",
        "colab_type": "code",
        "colab": {
          "base_uri": "https://localhost:8080/",
          "height": 445
        },
        "outputId": "50d49d1c-41d6-4f81-b379-20dace2ec3ea"
      },
      "source": [
        "!python '/content/model.py'"
      ],
      "execution_count": 23,
      "outputs": [
        {
          "output_type": "stream",
          "text": [
            "2020-08-19 09:14:46.372864: I tensorflow/stream_executor/platform/default/dso_loader.cc:48] Successfully opened dynamic library libcudart.so.10.1\n",
            "All preprocessing functions has been defined and also has been imported properly\n",
            "Now , you have Xtrain , Xtest , ytrain , ytest ready to use\n",
            "2020-08-19 09:14:50.942270: I tensorflow/stream_executor/platform/default/dso_loader.cc:48] Successfully opened dynamic library libcuda.so.1\n",
            "2020-08-19 09:14:50.945055: E tensorflow/stream_executor/cuda/cuda_driver.cc:314] failed call to cuInit: CUDA_ERROR_NO_DEVICE: no CUDA-capable device is detected\n",
            "2020-08-19 09:14:50.945099: I tensorflow/stream_executor/cuda/cuda_diagnostics.cc:156] kernel driver does not appear to be running on this host (e308daa02607): /proc/driver/nvidia/version does not exist\n",
            "2020-08-19 09:14:50.950358: I tensorflow/core/platform/profile_utils/cpu_utils.cc:104] CPU Frequency: 2200195000 Hz\n",
            "2020-08-19 09:14:50.950589: I tensorflow/compiler/xla/service/service.cc:168] XLA service 0x3070d80 initialized for platform Host (this does not guarantee that XLA will be used). Devices:\n",
            "2020-08-19 09:14:50.950629: I tensorflow/compiler/xla/service/service.cc:176]   StreamExecutor device (0): Host, Default Version\n",
            "model is starting training\n",
            "313/313 [==============================] - 114s 363ms/step - loss: 43.1026 - dense_2_loss: 0.5346 - dense_3_loss: 0.5323 - dense_4_loss: 0.5291 - dense_5_loss: 0.5329 - dense_6_loss: 0.5340 - dense_7_loss: 0.5337 - dense_8_loss: 0.5309 - dense_9_loss: 0.5347 - dense_10_loss: 0.5328 - dense_11_loss: 0.5322 - dense_12_loss: 0.5302 - dense_13_loss: 0.5273 - dense_14_loss: 0.5345 - dense_15_loss: 0.5317 - dense_16_loss: 0.5364 - dense_17_loss: 0.5338 - dense_18_loss: 0.5338 - dense_19_loss: 0.5303 - dense_20_loss: 0.5340 - dense_21_loss: 0.5308 - dense_22_loss: 0.5363 - dense_23_loss: 0.5371 - dense_24_loss: 0.5338 - dense_25_loss: 0.5361 - dense_26_loss: 0.5267 - dense_27_loss: 0.5326 - dense_28_loss: 0.5321 - dense_29_loss: 0.5273 - dense_30_loss: 0.5282 - dense_31_loss: 0.5308 - dense_32_loss: 0.5313 - dense_33_loss: 0.5420 - dense_34_loss: 0.5352 - dense_35_loss: 0.5363 - dense_36_loss: 0.5356 - dense_37_loss: 0.5308 - dense_38_loss: 0.5317 - dense_39_loss: 0.5305 - dense_40_loss: 0.5343 - dense_41_loss: 0.5306 - dense_42_loss: 0.5243 - dense_43_loss: 0.5256 - dense_44_loss: 0.5242 - dense_45_loss: 0.5337 - dense_46_loss: 0.5297 - dense_47_loss: 0.5329 - dense_48_loss: 0.5250 - dense_49_loss: 0.5285 - dense_50_loss: 0.5321 - dense_51_loss: 0.5286 - dense_52_loss: 0.5301 - dense_53_loss: 0.5301 - dense_54_loss: 0.5299 - dense_55_loss: 0.5271 - dense_56_loss: 0.5386 - dense_57_loss: 0.5378 - dense_58_loss: 0.5321 - dense_59_loss: 0.5330 - dense_60_loss: 0.5342 - dense_61_loss: 0.5316 - dense_62_loss: 0.5324 - dense_63_loss: 0.5289 - dense_64_loss: 0.5276 - dense_65_loss: 0.5349 - dense_66_loss: 0.5331 - dense_67_loss: 0.5339 - dense_68_loss: 0.5365 - dense_69_loss: 0.5328 - dense_70_loss: 0.5356 - dense_71_loss: 0.5373 - dense_72_loss: 0.5325 - dense_73_loss: 0.5386 - dense_74_loss: 0.5312 - dense_75_loss: 0.5346 - dense_76_loss: 0.5274 - dense_77_loss: 0.5326 - dense_78_loss: 0.5279 - dense_79_loss: 0.5296 - dense_80_loss: 0.5299 - dense_81_loss: 0.5351 - dense_82_loss: 0.5322 - dense_2_accuracy: 0.8382 - dense_3_accuracy: 0.8398 - dense_4_accuracy: 0.8403 - dense_5_accuracy: 0.8356 - dense_6_accuracy: 0.8368 - dense_7_accuracy: 0.8373 - dense_8_accuracy: 0.8379 - dense_9_accuracy: 0.8343 - dense_10_accuracy: 0.8376 - dense_11_accuracy: 0.8364 - dense_12_accuracy: 0.8400 - dense_13_accuracy: 0.8418 - dense_14_accuracy: 0.8345 - dense_15_accuracy: 0.8386 - dense_16_accuracy: 0.8371 - dense_17_accuracy: 0.8367 - dense_18_accuracy: 0.8366 - dense_19_accuracy: 0.8401 - dense_20_accuracy: 0.8379 - dense_21_accuracy: 0.8405 - dense_22_accuracy: 0.8336 - dense_23_accuracy: 0.8349 - dense_24_accuracy: 0.8352 - dense_25_accuracy: 0.8369 - dense_26_accuracy: 0.8401 - dense_27_accuracy: 0.8387 - dense_28_accuracy: 0.8359 - dense_29_accuracy: 0.8428 - dense_30_accuracy: 0.8424 - dense_31_accuracy: 0.8384 - dense_32_accuracy: 0.8363 - dense_33_accuracy: 0.8331 - dense_34_accuracy: 0.8340 - dense_35_accuracy: 0.8355 - dense_36_accuracy: 0.8351 - dense_37_accuracy: 0.8360 - dense_38_accuracy: 0.8406 - dense_39_accuracy: 0.8406 - dense_40_accuracy: 0.8357 - dense_41_accuracy: 0.8409 - dense_42_accuracy: 0.8437 - dense_43_accuracy: 0.8419 - dense_44_accuracy: 0.8439 - dense_45_accuracy: 0.8359 - dense_46_accuracy: 0.8378 - dense_47_accuracy: 0.8371 - dense_48_accuracy: 0.8423 - dense_49_accuracy: 0.8405 - dense_50_accuracy: 0.8404 - dense_51_accuracy: 0.8381 - dense_52_accuracy: 0.8403 - dense_53_accuracy: 0.8403 - dense_54_accuracy: 0.8420 - dense_55_accuracy: 0.8411 - dense_56_accuracy: 0.8358 - dense_57_accuracy: 0.8343 - dense_58_accuracy: 0.8383 - dense_59_accuracy: 0.8388 - dense_60_accuracy: 0.8390 - dense_61_accuracy: 0.8378 - dense_62_accuracy: 0.8378 - dense_63_accuracy: 0.8402 - dense_64_accuracy: 0.8423 - dense_65_accuracy: 0.8375 - dense_66_accuracy: 0.8375 - dense_67_accuracy: 0.8369 - dense_68_accuracy: 0.8339 - dense_69_accuracy: 0.8338 - dense_70_accuracy: 0.8364 - dense_71_accuracy: 0.8361 - dense_72_accuracy: 0.8381 - dense_73_accuracy: 0.8345 - dense_74_accuracy: 0.8385 - dense_75_accuracy: 0.8358 - dense_76_accuracy: 0.8432 - dense_77_accuracy: 0.8378 - dense_78_accuracy: 0.8403 - dense_79_accuracy: 0.8412 - dense_80_accuracy: 0.8382 - dense_81_accuracy: 0.8378 - dense_82_accuracy: 0.8381\n",
            "model has completed training\n",
            "WARNING:tensorflow:From /usr/local/lib/python3.6/dist-packages/tensorflow/python/training/tracking/tracking.py:111: Model.state_updates (from tensorflow.python.keras.engine.training) is deprecated and will be removed in a future version.\n",
            "Instructions for updating:\n",
            "This property should not be used in TensorFlow 2.0, as updates are applied automatically.\n",
            "2020-08-19 09:17:08.338012: W tensorflow/python/util/util.cc:348] Sets are not currently considered sequences, but this may change in the future, so consider avoiding using them.\n",
            "WARNING:tensorflow:From /usr/local/lib/python3.6/dist-packages/tensorflow/python/training/tracking/tracking.py:111: Layer.updates (from tensorflow.python.keras.engine.base_layer) is deprecated and will be removed in a future version.\n",
            "Instructions for updating:\n",
            "This property should not be used in TensorFlow 2.0, as updates are applied automatically.\n",
            "\n",
            "Grid solved:\t 10000\n",
            "Correct ones:\t 21\n",
            "Accuracy:\t 0.0021\n",
            "\n"
          ],
          "name": "stdout"
        }
      ]
    },
    {
      "cell_type": "code",
      "metadata": {
        "id": "_nwUjKaw7JPE",
        "colab_type": "code",
        "colab": {}
      },
      "source": [
        ""
      ],
      "execution_count": null,
      "outputs": []
    }
  ]
}